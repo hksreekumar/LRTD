{
 "cells": [
  {
   "cell_type": "markdown",
   "metadata": {},
   "source": [
    "# Low rank tensor decomposition\n",
    "\n",
    "The following example demonstrate feature extraction using low-rank tensor decomposition from data obtained by evaluating analytical functions.\n",
    "The example is adapted from the lecture of Nathan Kutz (see Literature in README.md).\n",
    "\n",
    "Objective of this example is to:\n",
    "- Synthesize an analytical test function with some features\n",
    "- Perform low-rank decomposition of the formulated data in the form of a tensor\n",
    "- Reconstruct the tensor from low-rank representation"
   ]
  },
  {
   "cell_type": "code",
   "execution_count": 15,
   "metadata": {},
   "outputs": [],
   "source": [
    "import numpy as np\n",
    "import matplotlib.pyplot as plt\n",
    "from matplotlib import animation"
   ]
  },
  {
   "cell_type": "code",
   "execution_count": 16,
   "metadata": {},
   "outputs": [],
   "source": [
    "%matplotlib qt"
   ]
  },
  {
   "cell_type": "markdown",
   "metadata": {},
   "source": [
    "## Problem definition\n",
    "\n",
    "We define a tensor of order 3 with dimensions $x,y,z$.\n",
    "\n",
    "$x,y$ denote the spatial coordinates and $t$ the temporal dimension."
   ]
  },
  {
   "cell_type": "code",
   "execution_count": 17,
   "metadata": {},
   "outputs": [],
   "source": [
    "x = np.linspace(-5,5,101)\n",
    "y = np.linspace(-6,6,121)\n",
    "t = np.linspace(0,10*np.pi,315)\n",
    "\n",
    "[X,Y,T] = np.meshgrid(x,y,t)"
   ]
  },
  {
   "cell_type": "markdown",
   "metadata": {},
   "source": [
    "We now introduce two features:\n",
    "- $f_1(x,y,t)$ contain a Gaussian dependent on $x$ and $y$ and also a cosine dependent on $t$\n",
    "- $f_2(x,y,t)$ contain a Gaussian, hyperbolic secant (1/cosh), hyperbolic tan and a sine terms\n",
    "\n",
    "Change the features and observe the code below."
   ]
  },
  {
   "cell_type": "code",
   "execution_count": 18,
   "metadata": {},
   "outputs": [],
   "source": [
    "f1 = np.exp(-(X*X+0.5*Y*Y))*np.cos(2*T)\n",
    "f2 = ((1/np.cosh(X))*np.tanh(X)*np.exp(-0.2*Y*Y))*np.sin(T)"
   ]
  },
  {
   "cell_type": "markdown",
   "metadata": {},
   "source": [
    "## Visualize"
   ]
  },
  {
   "cell_type": "code",
   "execution_count": 19,
   "metadata": {},
   "outputs": [],
   "source": [
    "visualize = True\n",
    "func_to_visualize = f1\n",
    "if visualize:\n",
    "    fig = plt.figure()\n",
    "    ax = fig.add_subplot(111, projection='3d')\n",
    "    surf = [ax.plot_surface(X[:,:,0], Y[:,:,0], func_to_visualize[:,:,0], antialiased=True)]\n",
    "    ax.set_xlim(-5, 5)\n",
    "    ax.set_ylim(-6, 6)\n",
    "    ax.set_zlim(-1, 1)\n",
    "    def update_plot(frame, surf, func):\n",
    "        ax.collections.clear()  # Clear the previous plot\n",
    "        surf[0] = ax.plot_surface(X[:,:,frame], Y[:,:,frame], func[:,:,frame], antialiased=False, cmap='gray')  # Plot new surface\n",
    "        plt.title(f'frame: {frame}')\n",
    "        return surf\n",
    "\n",
    "    ani = animation.FuncAnimation(fig, update_plot, frames=len(t), fargs=(surf, func_to_visualize), interval=100)\n",
    "    plt.show()"
   ]
  },
  {
   "cell_type": "markdown",
   "metadata": {},
   "source": [
    "## Decomposition\n",
    "\n",
    "Data in the form of a 3rd order tensor is prepared by combining the two functions:"
   ]
  },
  {
   "cell_type": "code",
   "execution_count": 20,
   "metadata": {},
   "outputs": [],
   "source": [
    "A = f1 + f2"
   ]
  },
  {
   "cell_type": "code",
   "execution_count": 21,
   "metadata": {},
   "outputs": [
    {
     "data": {
      "text/plain": [
       "(121, 101, 315)"
      ]
     },
     "execution_count": 21,
     "metadata": {},
     "output_type": "execute_result"
    }
   ],
   "source": [
    "A.shape"
   ]
  },
  {
   "cell_type": "code",
   "execution_count": 22,
   "metadata": {},
   "outputs": [],
   "source": [
    "visualize = True\n",
    "\n",
    "if visualize:\n",
    "    fig = plt.figure()\n",
    "    ax = fig.add_subplot(111, projection='3d')\n",
    "    surf = [ax.plot_surface(X[:,:,0], Y[:,:,0], A[:,:,0], antialiased=True)]\n",
    "    ax.set_xlim(-5, 5)\n",
    "    ax.set_ylim(-6, 6)\n",
    "    ax.set_zlim(-1, 1)\n",
    "    def update_plot(frame, surf, func):\n",
    "        ax.collections.clear()  # Clear the previous plot\n",
    "        surf[0] = ax.plot_surface(X[:,:,frame], Y[:,:,frame], func[:,:,frame], antialiased=False, cmap='gray')  # Plot new surface\n",
    "        plt.title(f'frame: {frame}')\n",
    "        return surf\n",
    "\n",
    "    ani = animation.FuncAnimation(fig, update_plot, frames=len(t), fargs=(surf, A), interval=100)\n",
    "    plt.show()"
   ]
  },
  {
   "cell_type": "markdown",
   "metadata": {},
   "source": [
    "Perform tensor decomposition using TensorLy:"
   ]
  },
  {
   "cell_type": "code",
   "execution_count": 23,
   "metadata": {},
   "outputs": [],
   "source": [
    "\n",
    "from tensorly.decomposition import parafac\n",
    "import tensorly as tl"
   ]
  },
  {
   "cell_type": "code",
   "execution_count": 24,
   "metadata": {},
   "outputs": [],
   "source": [
    "r = 2   # rank two data\n",
    "factors_tl = parafac(A, rank=r)"
   ]
  },
  {
   "cell_type": "code",
   "execution_count": 25,
   "metadata": {},
   "outputs": [],
   "source": [
    "plt.figure(figsize=(10,10))\n",
    "plt.subplot(311)\n",
    "plt.plot(y,factors_tl[1][0][:,:r])\n",
    "plt.title('y components')\n",
    "plt.subplot(312)\n",
    "plt.plot(x,factors_tl[1][1][:,:r])\n",
    "plt.title('x components')\n",
    "plt.subplot(313)\n",
    "plt.plot(t,factors_tl[1][2][:,:r])\n",
    "plt.title('z components')\n",
    "plt.show()"
   ]
  },
  {
   "cell_type": "markdown",
   "metadata": {},
   "source": [
    "## Tensor reconstruction from low-rank representation"
   ]
  },
  {
   "cell_type": "code",
   "execution_count": 26,
   "metadata": {},
   "outputs": [],
   "source": [
    "A_reconstructed = tl.cp_to_tensor(factors_tl)"
   ]
  },
  {
   "cell_type": "code",
   "execution_count": 27,
   "metadata": {},
   "outputs": [],
   "source": [
    "visualize = True\n",
    "\n",
    "cmap = 'viridis'\n",
    "\n",
    "if visualize:\n",
    "    fig = plt.figure(figsize=(15, 5))\n",
    "    ax1 = fig.add_subplot(131, projection='3d')\n",
    "    surf1 = [ax1.plot_surface(X[:,:,0], Y[:,:,0], A[:,:,0], antialiased=False, cmap=cmap)]\n",
    "    ax1.set_xlim(-5, 5)\n",
    "    ax1.set_ylim(-6, 6)\n",
    "    ax1.set_zlim(-1, 1)\n",
    "    ax2 = fig.add_subplot(132, projection='3d')\n",
    "    surf2 = [ax2.plot_surface(X[:,:,0], Y[:,:,0], A_reconstructed[:,:,0], antialiased=False, cmap=cmap)]\n",
    "    ax2.set_xlim(-5, 5)\n",
    "    ax2.set_ylim(-6, 6)\n",
    "    ax2.set_zlim(-1, 1)\n",
    "    ax3 = fig.add_subplot(133, projection='3d')\n",
    "    surf3 = [ax3.plot_surface(X[:,:,0], Y[:,:,0], np.abs(A_reconstructed[:,:,0]-A[:,:,0]), antialiased=False, cmap=cmap)]\n",
    "    ax3.set_xlim(-5, 5)\n",
    "    ax3.set_ylim(-6, 6)\n",
    "    ax3.set_zlim(-1, 1)\n",
    "\n",
    "    ax1.set_title('Full')\n",
    "    ax2.set_title(f'Low rank decomposition r={r}')\n",
    "    ax3.set_title('Absolute error')\n",
    "    def update_plot(frame, surf1, surf2, surf3, func1, func2):\n",
    "        ax1.collections.clear()  # Clear the previous plot\n",
    "        ax2.collections.clear()  # Clear the previous plot\n",
    "        ax3.collections.clear()  # Clear the previous plot\n",
    "        surf1[0] = ax1.plot_surface(X[:,:,frame], Y[:,:,frame], func1[:,:,frame], antialiased=False, cmap=cmap)  # Plot new surface\n",
    "        surf2[0] = ax2.plot_surface(X[:,:,frame], Y[:,:,frame], func2[:,:,frame], antialiased=False, cmap=cmap)  # Plot new surface\n",
    "        surf3[0] = ax3.plot_surface(X[:,:,frame], Y[:,:,frame], np.abs(func2[:,:,frame]-func1[:,:,frame]), antialiased=False, cmap=cmap)  # Plot new surface\n",
    "        return surf1, surf2, surf3\n",
    "\n",
    "    ani = animation.FuncAnimation(fig, update_plot, frames=len(t), fargs=(surf1, surf2, surf3, A, A_reconstructed), interval=100)\n",
    "    plt.show()"
   ]
  }
 ],
 "metadata": {
  "kernelspec": {
   "display_name": "Python 3",
   "language": "python",
   "name": "python3"
  },
  "language_info": {
   "codemirror_mode": {
    "name": "ipython",
    "version": 3
   },
   "file_extension": ".py",
   "mimetype": "text/x-python",
   "name": "python",
   "nbconvert_exporter": "python",
   "pygments_lexer": "ipython3",
   "version": "3.9.8"
  }
 },
 "nbformat": 4,
 "nbformat_minor": 2
}
