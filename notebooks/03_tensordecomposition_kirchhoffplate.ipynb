{
 "cells": [
  {
   "cell_type": "markdown",
   "metadata": {},
   "source": [
    "# Low rank tensor decomposition applied to Kirchhoff plate\n",
    "\n",
    "This is an extension case to the problem in `01_tensordecomposition_analyticalfunc.ipynb`. The data is now procured from simulating a simple plate example using Kirchhoff plate theory."
   ]
  },
  {
   "cell_type": "code",
   "execution_count": 26,
   "metadata": {},
   "outputs": [],
   "source": [
    "import numpy as np\n",
    "import matplotlib.pyplot as plt\n",
    "from matplotlib import animation"
   ]
  },
  {
   "cell_type": "code",
   "execution_count": 27,
   "metadata": {},
   "outputs": [],
   "source": [
    "%matplotlib qt"
   ]
  },
  {
   "cell_type": "markdown",
   "metadata": {},
   "source": [
    "## Plate definition\n",
    "\n",
    "For modelling the plate, a finite element method (FEM) code is provided."
   ]
  },
  {
   "cell_type": "code",
   "execution_count": 28,
   "metadata": {},
   "outputs": [],
   "source": [
    "import sys\n",
    "sys.path.append('..') # source\n",
    "\n",
    "from codes.PlateKirchhoff.element_matrices import build_element_stiffness, build_element_mass\n",
    "from codes.PlateKirchhoff.fe_system import fe_data, assemble_load, assemble_system\n",
    "from codes.PlateKirchhoff import fem_solver"
   ]
  },
  {
   "cell_type": "code",
   "execution_count": 29,
   "metadata": {},
   "outputs": [],
   "source": [
    "# parameters\n",
    "\n",
    "#coord = np.array([[0.,  0. ], [1.,  0. ], [1.,  0.7], [0.,  0.7]])\n",
    "c_s = np.array([1., 0.7, 0.003])\n",
    "\n",
    "# Structured nodal coordinates \n",
    "nElem_x = 20                                    # Number of elements in x direction\n",
    "nElem_y = 20                                    # Number of elements in y direction\n",
    "freq = np.linspace(10,400,91)\n",
    "\n",
    "coord = np.zeros(((nElem_y+1)*(nElem_x+1),2)) # Two coords per node (x,y)\n",
    "a_x = c_s[0] / nElem_x\n",
    "a_y = c_s[1] / nElem_y\n",
    "for m in range(nElem_x+1):\n",
    "    for n in range(nElem_y+1):\n",
    "        coord[m*(nElem_y+1)+n] = np.array([(m)*a_x, (n)*a_y])\n",
    "\n",
    "\n",
    "# Generate element connectivity\n",
    "connect = np.zeros((nElem_y*nElem_x,4), dtype=np.int32) # Four nodes per element (linear quadrilateral)\n",
    "for m in range(nElem_x):\n",
    "    for n in range(nElem_y):\n",
    "        elem_connect = np.zeros(4, dtype=np.int32)\n",
    "        elem_connect[0] = (m)*(nElem_y+1) + (n)\n",
    "        elem_connect[1] = elem_connect[0] + (nElem_y+1)\n",
    "        elem_connect[2] = elem_connect[1] + 1\n",
    "        elem_connect[3] = elem_connect[0] + 1\n",
    "        connect[m*nElem_y+n] = elem_connect\n",
    "\n",
    "# Material properties\n",
    "mat = np.array([7.0e+10, 3.4e-01, 2.7e+03])\n",
    "material = np.zeros((nElem_x*nElem_y, 3))\n",
    "material[:,:] = mat    # Emod, Poissons ratio, Density (Same material for all elements / homogeneous domain)\n",
    "\n",
    "n_unkwn_elem_disp = connect.shape[0]*4\n",
    "\n",
    "# arrange\n",
    "my_fe_data = fe_data()\n",
    "my_fe_data.coord = coord\n",
    "my_fe_data.material = material\n",
    "my_fe_data.pDim = c_s\n",
    "my_fe_data.connect = connect\n",
    "my_fe_data.bc = np.array([])\n",
    "\n",
    "# Matrix assembly\n",
    "KMAT, MMAT = assemble_system(my_fe_data)\n",
    "DMAT = np.zeros_like(MMAT)\n",
    "\n",
    "n = KMAT.shape[0]\n",
    "fload = np.zeros((n,1))\n",
    "fload[0,0] = 1"
   ]
  },
  {
   "cell_type": "code",
   "execution_count": 30,
   "metadata": {},
   "outputs": [],
   "source": [
    "from matplotlib.patches import Rectangle\n",
    "\n",
    "visualize = True\n",
    "if visualize:\n",
    "    # Plot the chosen mesh\n",
    "    fig, ax = plt.subplots()\n",
    "    ax.scatter(coord[:,0],coord[:,1],color=\"black\")\n",
    "    for element in connect: \n",
    "        ax.add_patch(Rectangle((min(coord[element[:],0]), min(coord[element[:],1])), a_x, a_y, fc='none', color=\"black\"))\n",
    "    plt.show()"
   ]
  },
  {
   "cell_type": "markdown",
   "metadata": {},
   "source": [
    "Construct the two-dimensional plate domain:"
   ]
  },
  {
   "cell_type": "code",
   "execution_count": 31,
   "metadata": {},
   "outputs": [],
   "source": [
    "x = np.linspace(0,c_s[0],nElem_x+1)\n",
    "y = np.linspace(0,c_s[1],nElem_y+1)\n",
    "\n",
    "X,Y,F = np.meshgrid(x,y,freq)"
   ]
  },
  {
   "cell_type": "markdown",
   "metadata": {},
   "source": [
    "Solve the FEM system:"
   ]
  },
  {
   "cell_type": "code",
   "execution_count": 32,
   "metadata": {},
   "outputs": [],
   "source": [
    "\n",
    "yFEM = fem_solver.solve_dense_system_response(KMAT, MMAT, DMAT, fload, freq)\n",
    "# filter z translation\n",
    "yFEM = np.real(yFEM[0::4, :])"
   ]
  },
  {
   "cell_type": "code",
   "execution_count": 33,
   "metadata": {},
   "outputs": [],
   "source": [
    "#coordinates = np.vstack((X.ravel(), Y.ravel(), F.ravel())).T\n",
    "yFEM_TensorList = []\n",
    "n_node = len(yFEM)\n",
    "for inode in range(n_node):\n",
    "    yFEM_TensorList.append(yFEM[inode,:].flatten())\n",
    "\n",
    "stacked_vectors = np.array(yFEM_TensorList[0])\n",
    "for vector in yFEM_TensorList[1:]:\n",
    "    stacked_vectors = np.concatenate((stacked_vectors, np.array(vector)))\n",
    "\n",
    "yFEM_Tensor = stacked_vectors.reshape(X.shape)"
   ]
  },
  {
   "cell_type": "markdown",
   "metadata": {},
   "source": [
    "### Export simulation data\n",
    "\n",
    "Run the data loading cell to skip the above simulation with already computed data."
   ]
  },
  {
   "cell_type": "code",
   "execution_count": 34,
   "metadata": {},
   "outputs": [],
   "source": [
    "data_filename = f'../data/data_kirchhoffplate{nElem_x}x{nElem_y}.npy'"
   ]
  },
  {
   "cell_type": "code",
   "execution_count": 35,
   "metadata": {},
   "outputs": [],
   "source": [
    "np.save(data_filename,yFEM_Tensor)"
   ]
  },
  {
   "cell_type": "code",
   "execution_count": 36,
   "metadata": {},
   "outputs": [],
   "source": [
    "yFEM_Tensor = np.load(data_filename)"
   ]
  },
  {
   "cell_type": "markdown",
   "metadata": {},
   "source": [
    "## Visualize FEM results"
   ]
  },
  {
   "cell_type": "code",
   "execution_count": 37,
   "metadata": {},
   "outputs": [],
   "source": [
    "visualize = True\n",
    "\n",
    "if visualize:\n",
    "    fig = plt.figure()\n",
    "    ax = fig.add_subplot(111, projection='3d')\n",
    "    surf = [ax.plot_surface(X[:,:,0], Y[:,:,0], yFEM_Tensor[:,:,0], antialiased=False, cmap='viridis')]\n",
    "    # ax.set_xlim(-5, 5)\n",
    "    # ax.set_ylim(-6, 6)\n",
    "    ax.set_zlim(min(stacked_vectors), max(stacked_vectors))\n",
    "    def update_plot(frame, surf, func):\n",
    "        ax.collections.clear()  # Clear the previous plot\n",
    "        surf[0] = ax.plot_surface(X[:,:,frame], Y[:,:,frame], func[:,:,frame], antialiased=False, cmap='viridis')  # Plot new surface\n",
    "        ax.set_title(f'freq {round(freq[frame],2)} Hz')\n",
    "        return surf\n",
    "\n",
    "    ani = animation.FuncAnimation(fig, update_plot, frames=len(freq), fargs=(surf, yFEM_Tensor), interval=100)\n",
    "    plt.show()"
   ]
  },
  {
   "cell_type": "markdown",
   "metadata": {},
   "source": [
    "## Perform low-rank tensor approximation"
   ]
  },
  {
   "cell_type": "code",
   "execution_count": 38,
   "metadata": {},
   "outputs": [],
   "source": [
    "from tensorly.decomposition import parafac\n",
    "import tensorly as tl"
   ]
  },
  {
   "cell_type": "markdown",
   "metadata": {},
   "source": [
    "Performs CP decomposition:"
   ]
  },
  {
   "cell_type": "code",
   "execution_count": 56,
   "metadata": {},
   "outputs": [
    {
     "name": "stdout",
     "output_type": "stream",
     "text": [
      "Reconstruction error: 0.00026257026526759234\n"
     ]
    }
   ],
   "source": [
    "r = np.ones((3,), dtype=int)*50\n",
    "factors_tl = parafac(yFEM_Tensor, rank=r[0])\n",
    "yFEM_Tensor_reconstructed = tl.cp_to_tensor(factors_tl)\n",
    "\n",
    "print(f'Reconstruction error: {tl.norm(yFEM_Tensor-yFEM_Tensor_reconstructed)}')"
   ]
  },
  {
   "cell_type": "markdown",
   "metadata": {},
   "source": [
    "Performs tensor train decomposition:"
   ]
  },
  {
   "cell_type": "code",
   "execution_count": 62,
   "metadata": {},
   "outputs": [
    {
     "name": "stdout",
     "output_type": "stream",
     "text": [
      "Reconstruction error: 2.2619908829040784e-05\n"
     ]
    }
   ],
   "source": [
    "from tensorly.decomposition import tucker\n",
    "\n",
    "r = [15,15,40]\n",
    "factors_tl = tucker(yFEM_Tensor, rank=r)\n",
    "yFEM_Tensor_reconstructed = tl.tucker_to_tensor(factors_tl)\n",
    "\n",
    "print(f'Reconstruction error: {tl.norm(yFEM_Tensor-yFEM_Tensor_reconstructed)}')"
   ]
  },
  {
   "cell_type": "code",
   "execution_count": 63,
   "metadata": {},
   "outputs": [],
   "source": [
    "plt.figure(figsize=(10,10))\n",
    "plt.subplot(311)\n",
    "plt.plot(y,factors_tl[1][0][:,:r[0]])\n",
    "plt.title('y components')\n",
    "plt.subplot(312)\n",
    "plt.plot(x,factors_tl[1][1][:,:r[1]])\n",
    "plt.title('x components')\n",
    "plt.subplot(313)\n",
    "plt.semilogy(freq,np.abs(factors_tl[1][2][:,:r[2]]))\n",
    "plt.title('z components')\n",
    "plt.show()"
   ]
  },
  {
   "cell_type": "markdown",
   "metadata": {},
   "source": [
    "## Visualization"
   ]
  },
  {
   "cell_type": "code",
   "execution_count": 64,
   "metadata": {},
   "outputs": [],
   "source": [
    "visualize = True\n",
    "A = yFEM_Tensor\n",
    "A_reconstructed = yFEM_Tensor_reconstructed\n",
    "\n",
    "cmap = 'viridis'\n",
    "\n",
    "if visualize:\n",
    "    fig = plt.figure(figsize=(15, 5))\n",
    "    ax1 = fig.add_subplot(131, projection='3d')\n",
    "    surf1 = [ax1.plot_surface(X[:,:,0], Y[:,:,0], A[:,:,0], antialiased=False, cmap=cmap)]\n",
    "    # ax1.set_xlim(-5, 5)\n",
    "    # ax1.set_ylim(-6, 6)\n",
    "    # ax1.set_zlim(-1, 1)\n",
    "    ax.set_zlim(min(stacked_vectors), max(stacked_vectors))\n",
    "    ax2 = fig.add_subplot(132, projection='3d')\n",
    "    surf2 = [ax2.plot_surface(X[:,:,0], Y[:,:,0], A_reconstructed[:,:,0], antialiased=False, cmap=cmap)]\n",
    "    # ax2.set_xlim(-5, 5)\n",
    "    # ax2.set_ylim(-6, 6)\n",
    "    # ax2.set_zlim(-1, 1)\n",
    "    ax.set_zlim(min(stacked_vectors), max(stacked_vectors))\n",
    "    ax3 = fig.add_subplot(133, projection='3d')\n",
    "    surf3 = [ax3.plot_surface(X[:,:,0], Y[:,:,0], np.abs(A_reconstructed[:,:,0]-A[:,:,0]), antialiased=False, cmap=cmap)]\n",
    "    # ax3.set_xlim(-5, 5)\n",
    "    # ax3.set_ylim(-6, 6)\n",
    "    # ax3.set_zlim(-1, 1)\n",
    "    ax.set_zlim(min(stacked_vectors), max(stacked_vectors))\n",
    "\n",
    "    ax1.set_title('Full')\n",
    "    ax2.set_title(f'Low rank decomposition r={r}')\n",
    "    ax3.set_title('Absolute error')\n",
    "    def update_plot(frame, surf1, surf2, surf3, func1, func2):\n",
    "        ax1.collections.clear()  # Clear the previous plot\n",
    "        ax2.collections.clear()  # Clear the previous plot\n",
    "        ax3.collections.clear()  # Clear the previous plot\n",
    "        surf1[0] = ax1.plot_surface(X[:,:,frame], Y[:,:,frame], func1[:,:,frame], antialiased=False, cmap=cmap)  # Plot new surface\n",
    "        surf2[0] = ax2.plot_surface(X[:,:,frame], Y[:,:,frame], func2[:,:,frame], antialiased=False, cmap=cmap)  # Plot new surface\n",
    "        surf3[0] = ax3.plot_surface(X[:,:,frame], Y[:,:,frame], np.abs(func2[:,:,frame]-func1[:,:,frame]), antialiased=False, cmap=cmap)  # Plot new surface\n",
    "\n",
    "        plt.suptitle(f'freq {round(freq[frame],2)} Hz')\n",
    "        return surf1, surf2, surf3\n",
    "\n",
    "    ani = animation.FuncAnimation(fig, update_plot, frames=len(freq), fargs=(surf1, surf2, surf3, A, A_reconstructed), interval=400)\n",
    "    plt.show()"
   ]
  },
  {
   "cell_type": "markdown",
   "metadata": {},
   "source": [
    "Plotting error over frequency:"
   ]
  },
  {
   "cell_type": "code",
   "execution_count": 66,
   "metadata": {},
   "outputs": [],
   "source": [
    "abs_error =np.abs(yFEM_Tensor-yFEM_Tensor_reconstructed)\n",
    "abs_error_freq = []\n",
    "for ifreq in range(len(freq)):\n",
    "    abs_error_freq.append(max(abs_error[:,:,ifreq].flatten()))\n",
    "\n",
    "plt.figure(figsize=(10,5))\n",
    "plt.plot(freq, abs_error_freq, linewidth=2)\n",
    "plt.show()"
   ]
  },
  {
   "cell_type": "markdown",
   "metadata": {},
   "source": [
    "Plot the snapshot comparison at the frequency point with maximum error:"
   ]
  },
  {
   "cell_type": "code",
   "execution_count": 67,
   "metadata": {},
   "outputs": [
    {
     "data": {
      "text/plain": [
       "Text(0.5, 0.98, 'freq 400 Hz')"
      ]
     },
     "execution_count": 67,
     "metadata": {},
     "output_type": "execute_result"
    }
   ],
   "source": [
    "max_error_freq_frame = np.argmax(abs_error_freq)\n",
    "\n",
    "fig = plt.figure(figsize=(15, 5))\n",
    "ax1 = fig.add_subplot(131, projection='3d')\n",
    "surf1 = [ax1.plot_surface(X[:,:,0], Y[:,:,0], A[:,:,max_error_freq_frame], antialiased=False, cmap=cmap)]\n",
    "# ax1.set_xlim(-5, 5)\n",
    "# ax1.set_ylim(-6, 6)\n",
    "# ax1.set_zlim(-1, 1)\n",
    "ax2 = fig.add_subplot(132, projection='3d')\n",
    "surf2 = [ax2.plot_surface(X[:,:,0], Y[:,:,0], A_reconstructed[:,:,max_error_freq_frame], antialiased=False, cmap=cmap)]\n",
    "# ax2.set_xlim(-5, 5)\n",
    "# ax2.set_ylim(-6, 6)\n",
    "# ax2.set_zlim(-1, 1)\n",
    "ax3 = fig.add_subplot(133, projection='3d')\n",
    "surf3 = [ax3.plot_surface(X[:,:,0], Y[:,:,0], abs_error[:,:,max_error_freq_frame], antialiased=False, cmap=cmap)]\n",
    "# ax3.set_xlim(-5, 5)\n",
    "# ax3.set_ylim(-6, 6)\n",
    "# ax3.set_zlim(-1, 1)\n",
    "\n",
    "ax1.set_title('Full')\n",
    "ax2.set_title(f'Low rank decomposition r={r}')\n",
    "ax3.set_title('Absolute error')\n",
    "plt.suptitle(f'freq {round(freq[max_error_freq_frame])} Hz')"
   ]
  }
 ],
 "metadata": {
  "kernelspec": {
   "display_name": "Python 3",
   "language": "python",
   "name": "python3"
  },
  "language_info": {
   "codemirror_mode": {
    "name": "ipython",
    "version": 3
   },
   "file_extension": ".py",
   "mimetype": "text/x-python",
   "name": "python",
   "nbconvert_exporter": "python",
   "pygments_lexer": "ipython3",
   "version": "3.9.8"
  }
 },
 "nbformat": 4,
 "nbformat_minor": 2
}
